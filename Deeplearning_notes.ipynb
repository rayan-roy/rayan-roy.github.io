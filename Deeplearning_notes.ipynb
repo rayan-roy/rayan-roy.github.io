{
  "nbformat": 4,
  "nbformat_minor": 0,
  "metadata": {
    "colab": {
      "name": "Deeplearning-notes.ipynb",
      "provenance": [],
      "authorship_tag": "ABX9TyPB1ia+JnvhjXFKz3RCHk0U",
      "include_colab_link": true
    },
    "kernelspec": {
      "name": "python3",
      "display_name": "Python 3"
    }
  },
  "cells": [
    {
      "cell_type": "markdown",
      "metadata": {
        "id": "view-in-github",
        "colab_type": "text"
      },
      "source": [
        "<a href=\"https://colab.research.google.com/github/rayan-roy/rayan-roy.github.io/blob/master/Deeplearning_notes.ipynb\" target=\"_parent\"><img src=\"https://colab.research.google.com/assets/colab-badge.svg\" alt=\"Open In Colab\"/></a>"
      ]
    },
    {
      "cell_type": "markdown",
      "metadata": {
        "id": "dgsSmBkWFi59",
        "colab_type": "text"
      },
      "source": [
        "# Day 1 of the Deep Learning\n"
      ]
    },
    {
      "cell_type": "code",
      "metadata": {
        "id": "LEsxkeqokb90",
        "colab_type": "code",
        "colab": {}
      },
      "source": [
        "pip install tensorflow\n"
      ],
      "execution_count": null,
      "outputs": []
    },
    {
      "cell_type": "code",
      "metadata": {
        "id": "_2iI75gglbNy",
        "colab_type": "code",
        "colab": {
          "base_uri": "https://localhost:8080/",
          "height": 34
        },
        "outputId": "50068429-d8f2-42e9-a909-6a6fc68e235b"
      },
      "source": [
        "import tensorflow as tf\n",
        "print(tf.__version__)"
      ],
      "execution_count": null,
      "outputs": [
        {
          "output_type": "stream",
          "text": [
            "2.3.0\n"
          ],
          "name": "stdout"
        }
      ]
    },
    {
      "cell_type": "code",
      "metadata": {
        "id": "GSFOCaiHYDhR",
        "colab_type": "code",
        "colab": {}
      },
      "source": [
        "import numpy as np\n",
        "import pandas as pd\n",
        "import matplotlib.pyplot as plt"
      ],
      "execution_count": null,
      "outputs": []
    },
    {
      "cell_type": "markdown",
      "metadata": {
        "id": "__JKycO0Nz-w",
        "colab_type": "text"
      },
      "source": [
        "## Index meaning:"
      ]
    },
    {
      "cell_type": "code",
      "metadata": {
        "id": "CxgTsvwGNzIW",
        "colab_type": "code",
        "colab": {}
      },
      "source": [
        "a = [1,2,3,4]\n",
        "# We want to get the single element\n",
        "print(a[2])\n",
        "# Will return one element"
      ],
      "execution_count": null,
      "outputs": []
    },
    {
      "cell_type": "code",
      "metadata": {
        "id": "wwxYJj7qOIC2",
        "colab_type": "code",
        "colab": {}
      },
      "source": [
        "# A 2-D array\n",
        "dd = [\n",
        "[1,2,3],\n",
        "[4,5,6],\n",
        "[7,8,9]\n",
        "]"
      ],
      "execution_count": null,
      "outputs": []
    },
    {
      "cell_type": "code",
      "metadata": {
        "id": "8dww2VnyOMzm",
        "colab_type": "code",
        "colab": {
          "base_uri": "https://localhost:8080/",
          "height": 34
        },
        "outputId": "3d676c46-01df-4315-8e04-be3ec5a72e64"
      },
      "source": [
        "# To access one element, you need to index twice\n",
        "dd[0][2]"
      ],
      "execution_count": null,
      "outputs": [
        {
          "output_type": "execute_result",
          "data": {
            "text/plain": [
              "3"
            ]
          },
          "metadata": {
            "tags": []
          },
          "execution_count": 3
        }
      ]
    },
    {
      "cell_type": "code",
      "metadata": {
        "id": "Q2oG-7HhPs1I",
        "colab_type": "code",
        "colab": {
          "base_uri": "https://localhost:8080/",
          "height": 85
        },
        "outputId": "b17c965c-57a9-40e7-98e0-3156cc7af598"
      },
      "source": [
        "dd = [\n",
        "[1,2,3],\n",
        "[4,5,6],\n",
        "[7,8,9]\n",
        "]\n",
        "t = tf.constant(dd) \n",
        "t"
      ],
      "execution_count": null,
      "outputs": [
        {
          "output_type": "execute_result",
          "data": {
            "text/plain": [
              "<tf.Tensor: shape=(3, 3), dtype=int32, numpy=\n",
              "array([[1, 2, 3],\n",
              "       [4, 5, 6],\n",
              "       [7, 8, 9]], dtype=int32)>"
            ]
          },
          "metadata": {
            "tags": []
          },
          "execution_count": 9
        }
      ]
    },
    {
      "cell_type": "code",
      "metadata": {
        "id": "q3xubCsrQHOn",
        "colab_type": "code",
        "colab": {
          "base_uri": "https://localhost:8080/",
          "height": 34
        },
        "outputId": "47ad9d33-5eb5-45c5-aded-4e8579973c12"
      },
      "source": [
        "type(t) "
      ],
      "execution_count": null,
      "outputs": [
        {
          "output_type": "execute_result",
          "data": {
            "text/plain": [
              "tensorflow.python.framework.ops.EagerTensor"
            ]
          },
          "metadata": {
            "tags": []
          },
          "execution_count": 10
        }
      ]
    },
    {
      "cell_type": "code",
      "metadata": {
        "id": "YhJnK7NvQROV",
        "colab_type": "code",
        "colab": {
          "base_uri": "https://localhost:8080/",
          "height": 34
        },
        "outputId": "8b2fbfb0-01f1-47b6-d2b5-83309b13827f"
      },
      "source": [
        "t.shape"
      ],
      "execution_count": null,
      "outputs": [
        {
          "output_type": "execute_result",
          "data": {
            "text/plain": [
              "TensorShape([3, 3])"
            ]
          },
          "metadata": {
            "tags": []
          },
          "execution_count": 11
        }
      ]
    },
    {
      "cell_type": "markdown",
      "metadata": {
        "id": "quQJCkt4atZT",
        "colab_type": "text"
      },
      "source": [
        "Note that the first 3 stands for row, and the second 3 stands for column"
      ]
    },
    {
      "cell_type": "code",
      "metadata": {
        "id": "CR3cYI4Baywl",
        "colab_type": "code",
        "colab": {
          "base_uri": "https://localhost:8080/",
          "height": 34
        },
        "outputId": "81407661-87bb-46f2-d787-bf844c631ba7"
      },
      "source": [
        "t = tf.constant([\n",
        "    [1,1,1,1],\n",
        "    [2,2,2,2],\n",
        "    [3,3,3,3]\n",
        "])\n",
        "reshaped_tensor = tf.reshape(t, [1,12])     # reshape is a function that helps to reshaping any ndarray or ndtensor\n",
        "print(reshaped_tensor)"
      ],
      "execution_count": null,
      "outputs": [
        {
          "output_type": "stream",
          "text": [
            "tf.Tensor([[1 1 1 1 2 2 2 2 3 3 3 3]], shape=(1, 12), dtype=int32)\n"
          ],
          "name": "stdout"
        }
      ]
    },
    {
      "cell_type": "code",
      "metadata": {
        "id": "6bCOFQLPbGmi",
        "colab_type": "code",
        "colab": {
          "base_uri": "https://localhost:8080/",
          "height": 119
        },
        "outputId": "0db7780f-6a01-4b3a-ded5-334fdb703a9c"
      },
      "source": [
        "# Earlier it was 3 by 4 and now its 1 by 12 so shape didn't change\n",
        "# Note that rank is still 2 as there are two elements whether it be 4*3 or 1*12 or 2*6\n",
        "# To increase rank to 3\n",
        "reshaped_tensor = tf.reshape(t, [2,2,3])\n",
        "print(reshaped_tensor)\n",
        "# We did happen to lose rows and columns by 2*2*3 = 12\n"
      ],
      "execution_count": null,
      "outputs": [
        {
          "output_type": "stream",
          "text": [
            "tf.Tensor(\n",
            "[[[1 1 1]\n",
            "  [1 2 2]]\n",
            "\n",
            " [[2 2 3]\n",
            "  [3 3 3]]], shape=(2, 2, 3), dtype=int32)\n"
          ],
          "name": "stdout"
        }
      ]
    },
    {
      "cell_type": "markdown",
      "metadata": {
        "id": "VkIB7ZwGch_R",
        "colab_type": "text"
      },
      "source": [
        "## Squeezing and Unsqeezing\n"
      ]
    },
    {
      "cell_type": "code",
      "metadata": {
        "id": "VbmAYf6Dclad",
        "colab_type": "code",
        "colab": {
          "base_uri": "https://localhost:8080/",
          "height": 51
        },
        "outputId": "52d90c68-a1b4-4c86-d9bf-2d615424aea8"
      },
      "source": [
        "print(tf.reshape(t, [1,12]))\n",
        "print(tf.reshape(t, [1,12]).shape) # will give dimension"
      ],
      "execution_count": null,
      "outputs": [
        {
          "output_type": "stream",
          "text": [
            "tf.Tensor([[1 1 1 1 2 2 2 2 3 3 3 3]], shape=(1, 12), dtype=int32)\n",
            "(1, 12)\n"
          ],
          "name": "stdout"
        }
      ]
    },
    {
      "cell_type": "code",
      "metadata": {
        "id": "PW4izRj9cy5n",
        "colab_type": "code",
        "colab": {
          "base_uri": "https://localhost:8080/",
          "height": 51
        },
        "outputId": "b74d98c2-0626-403b-9bdb-4a5e6db2b69d"
      },
      "source": [
        "print(tf.squeeze(tf.reshape(t, [1,12])))\n",
        "print(tf.squeeze(tf.reshape(t, [1,12])).shape) # You will see that axis of 1 is removed"
      ],
      "execution_count": null,
      "outputs": [
        {
          "output_type": "stream",
          "text": [
            "tf.Tensor([1 1 1 1 2 2 2 2 3 3 3 3], shape=(12,), dtype=int32)\n",
            "(12,)\n"
          ],
          "name": "stdout"
        }
      ]
    },
    {
      "cell_type": "markdown",
      "metadata": {
        "id": "JTsphzFAdemC",
        "colab_type": "text"
      },
      "source": [
        "## Flattening the tensor"
      ]
    },
    {
      "cell_type": "code",
      "metadata": {
        "id": "gx5_xUjPdgaf",
        "colab_type": "code",
        "colab": {}
      },
      "source": [
        "t = tf.ones([4, 3])\n",
        "t = tf.reshape(t,[1,-1])\n",
        "print(t)"
      ],
      "execution_count": null,
      "outputs": []
    },
    {
      "cell_type": "markdown",
      "metadata": {
        "id": "ykDjBoEkiyZY",
        "colab_type": "text"
      },
      "source": [
        "## Concatenating Tensors"
      ]
    },
    {
      "cell_type": "code",
      "metadata": {
        "id": "-L-sSU1Ri1GQ",
        "colab_type": "code",
        "colab": {}
      },
      "source": [
        "t1 = tf.constant([\n",
        "    [1,2],\n",
        "    [3,4]\n",
        "])\n",
        "\n",
        "t2 = tf.constant([\n",
        "    [5,6],\n",
        "    [7,8]\n",
        "])"
      ],
      "execution_count": null,
      "outputs": []
    },
    {
      "cell_type": "code",
      "metadata": {
        "id": "6nw9cO4wjF9p",
        "colab_type": "code",
        "colab": {
          "base_uri": "https://localhost:8080/",
          "height": 102
        },
        "outputId": "a6c9dade-05f0-4b05-bdea-27048c30393f"
      },
      "source": [
        "# Concatenating row wise\n",
        "tf.concat((t1, t2), axis = 0) \n"
      ],
      "execution_count": null,
      "outputs": [
        {
          "output_type": "execute_result",
          "data": {
            "text/plain": [
              "<tf.Tensor: shape=(4, 2), dtype=int32, numpy=\n",
              "array([[1, 2],\n",
              "       [3, 4],\n",
              "       [5, 6],\n",
              "       [7, 8]], dtype=int32)>"
            ]
          },
          "metadata": {
            "tags": []
          },
          "execution_count": 24
        }
      ]
    },
    {
      "cell_type": "code",
      "metadata": {
        "id": "WroGM9XXkAmy",
        "colab_type": "code",
        "colab": {
          "base_uri": "https://localhost:8080/",
          "height": 68
        },
        "outputId": "ba6d4c6e-6c62-4c2b-919a-1313e6682df7"
      },
      "source": [
        "tf.concat((t1, t2), axis = 1) # We see that [5,6] are attached beside [1,2]"
      ],
      "execution_count": null,
      "outputs": [
        {
          "output_type": "execute_result",
          "data": {
            "text/plain": [
              "<tf.Tensor: shape=(2, 4), dtype=int32, numpy=\n",
              "array([[1, 2, 5, 6],\n",
              "       [3, 4, 7, 8]], dtype=int32)>"
            ]
          },
          "metadata": {
            "tags": []
          },
          "execution_count": 25
        }
      ]
    },
    {
      "cell_type": "markdown",
      "metadata": {
        "id": "WtIVsUVFkRke",
        "colab_type": "text"
      },
      "source": [
        "To check the shape, we use\n"
      ]
    },
    {
      "cell_type": "code",
      "metadata": {
        "id": "AnznACyAkTo4",
        "colab_type": "code",
        "colab": {
          "base_uri": "https://localhost:8080/",
          "height": 34
        },
        "outputId": "e8c37ae6-50e1-44fd-8383-c1db132c8eec"
      },
      "source": [
        "# Row wise\n",
        "tf.concat((t1, t2), axis = 0).shape"
      ],
      "execution_count": null,
      "outputs": [
        {
          "output_type": "execute_result",
          "data": {
            "text/plain": [
              "TensorShape([4, 2])"
            ]
          },
          "metadata": {
            "tags": []
          },
          "execution_count": 27
        }
      ]
    },
    {
      "cell_type": "code",
      "metadata": {
        "id": "eua_91w-kcxo",
        "colab_type": "code",
        "colab": {
          "base_uri": "https://localhost:8080/",
          "height": 34
        },
        "outputId": "d1d491ae-1aca-455e-ff57-d0762a54204c"
      },
      "source": [
        "# Column wise\n",
        "tf.concat((t1, t2), axis = 1).shape"
      ],
      "execution_count": null,
      "outputs": [
        {
          "output_type": "execute_result",
          "data": {
            "text/plain": [
              "TensorShape([2, 4])"
            ]
          },
          "metadata": {
            "tags": []
          },
          "execution_count": 28
        }
      ]
    },
    {
      "cell_type": "code",
      "metadata": {
        "id": "vV-AMZL0nMXe",
        "colab_type": "code",
        "colab": {}
      },
      "source": [
        "t = tf.constant([1,2,4,5,6,7])\n"
      ],
      "execution_count": null,
      "outputs": []
    },
    {
      "cell_type": "code",
      "metadata": {
        "id": "jyyvfyhlnrjB",
        "colab_type": "code",
        "colab": {
          "base_uri": "https://localhost:8080/",
          "height": 34
        },
        "outputId": "b349cc85-c105-4b47-fc39-ef7e96b8a19a"
      },
      "source": [
        "t[:5]"
      ],
      "execution_count": null,
      "outputs": [
        {
          "output_type": "execute_result",
          "data": {
            "text/plain": [
              "<tf.Tensor: shape=(5,), dtype=int32, numpy=array([1, 2, 4, 5, 6], dtype=int32)>"
            ]
          },
          "metadata": {
            "tags": []
          },
          "execution_count": 35
        }
      ]
    },
    {
      "cell_type": "markdown",
      "metadata": {
        "id": "Rq1-DLd4F11S",
        "colab_type": "text"
      },
      "source": [
        "# Day 4 of Deep Learning"
      ]
    },
    {
      "cell_type": "markdown",
      "metadata": {
        "id": "T1fXi37eITkw",
        "colab_type": "text"
      },
      "source": [
        "## Note I imported House data, but I want to learn about Boston data"
      ]
    },
    {
      "cell_type": "code",
      "metadata": {
        "id": "g3JSKugGF5zo",
        "colab_type": "code",
        "colab": {}
      },
      "source": [
        "# Importing data in Google Colab:\n",
        "# Note its easier to import data from Github than your local drive\n",
        "# Currently we are importing data from the local drive\n",
        "# https://towardsdatascience.com/3-ways-to-load-csv-files-into-colab-7c14fcbdcb92\n",
        "\n",
        "#from google.colab import files\n",
        "#uploaded = files.upload()"
      ],
      "execution_count": null,
      "outputs": []
    },
    {
      "cell_type": "code",
      "metadata": {
        "id": "PM6WRWIJHzhX",
        "colab_type": "code",
        "colab": {}
      },
      "source": [
        "#import io\n",
        "#houseprice = pd.read_csv(io.BytesIO(uploaded['train.csv']))"
      ],
      "execution_count": null,
      "outputs": []
    },
    {
      "cell_type": "code",
      "metadata": {
        "id": "BY-YZ-lQH_oS",
        "colab_type": "code",
        "colab": {}
      },
      "source": [
        "#houseprice.head()"
      ],
      "execution_count": null,
      "outputs": []
    },
    {
      "cell_type": "code",
      "metadata": {
        "id": "WLnho3G2IjYL",
        "colab_type": "code",
        "colab": {}
      },
      "source": [
        "bostondata = pd.read_csv(\"https://raw.githubusercontent.com/dphi-official/Datasets/master/Boston_Housing/Training_set_boston.csv\" )"
      ],
      "execution_count": null,
      "outputs": []
    },
    {
      "cell_type": "code",
      "metadata": {
        "id": "QKEoHKY7IoDn",
        "colab_type": "code",
        "colab": {
          "base_uri": "https://localhost:8080/",
          "height": 204
        },
        "outputId": "674cc24f-a460-4bfe-8d95-3817f6262e42"
      },
      "source": [
        "bostondata.head()"
      ],
      "execution_count": null,
      "outputs": [
        {
          "output_type": "execute_result",
          "data": {
            "text/html": [
              "<div>\n",
              "<style scoped>\n",
              "    .dataframe tbody tr th:only-of-type {\n",
              "        vertical-align: middle;\n",
              "    }\n",
              "\n",
              "    .dataframe tbody tr th {\n",
              "        vertical-align: top;\n",
              "    }\n",
              "\n",
              "    .dataframe thead th {\n",
              "        text-align: right;\n",
              "    }\n",
              "</style>\n",
              "<table border=\"1\" class=\"dataframe\">\n",
              "  <thead>\n",
              "    <tr style=\"text-align: right;\">\n",
              "      <th></th>\n",
              "      <th>CRIM</th>\n",
              "      <th>ZN</th>\n",
              "      <th>INDUS</th>\n",
              "      <th>CHAS</th>\n",
              "      <th>NOX</th>\n",
              "      <th>RM</th>\n",
              "      <th>AGE</th>\n",
              "      <th>DIS</th>\n",
              "      <th>RAD</th>\n",
              "      <th>TAX</th>\n",
              "      <th>PTRATIO</th>\n",
              "      <th>B</th>\n",
              "      <th>LSTAT</th>\n",
              "      <th>MEDV</th>\n",
              "    </tr>\n",
              "  </thead>\n",
              "  <tbody>\n",
              "    <tr>\n",
              "      <th>0</th>\n",
              "      <td>15.02340</td>\n",
              "      <td>0.0</td>\n",
              "      <td>18.10</td>\n",
              "      <td>0.0</td>\n",
              "      <td>0.6140</td>\n",
              "      <td>5.304</td>\n",
              "      <td>97.3</td>\n",
              "      <td>2.1007</td>\n",
              "      <td>24.0</td>\n",
              "      <td>666.0</td>\n",
              "      <td>20.2</td>\n",
              "      <td>349.48</td>\n",
              "      <td>24.91</td>\n",
              "      <td>12.0</td>\n",
              "    </tr>\n",
              "    <tr>\n",
              "      <th>1</th>\n",
              "      <td>0.62739</td>\n",
              "      <td>0.0</td>\n",
              "      <td>8.14</td>\n",
              "      <td>0.0</td>\n",
              "      <td>0.5380</td>\n",
              "      <td>5.834</td>\n",
              "      <td>56.5</td>\n",
              "      <td>4.4986</td>\n",
              "      <td>4.0</td>\n",
              "      <td>307.0</td>\n",
              "      <td>21.0</td>\n",
              "      <td>395.62</td>\n",
              "      <td>8.47</td>\n",
              "      <td>19.9</td>\n",
              "    </tr>\n",
              "    <tr>\n",
              "      <th>2</th>\n",
              "      <td>0.03466</td>\n",
              "      <td>35.0</td>\n",
              "      <td>6.06</td>\n",
              "      <td>0.0</td>\n",
              "      <td>0.4379</td>\n",
              "      <td>6.031</td>\n",
              "      <td>23.3</td>\n",
              "      <td>6.6407</td>\n",
              "      <td>1.0</td>\n",
              "      <td>304.0</td>\n",
              "      <td>16.9</td>\n",
              "      <td>362.25</td>\n",
              "      <td>7.83</td>\n",
              "      <td>19.4</td>\n",
              "    </tr>\n",
              "    <tr>\n",
              "      <th>3</th>\n",
              "      <td>7.05042</td>\n",
              "      <td>0.0</td>\n",
              "      <td>18.10</td>\n",
              "      <td>0.0</td>\n",
              "      <td>0.6140</td>\n",
              "      <td>6.103</td>\n",
              "      <td>85.1</td>\n",
              "      <td>2.0218</td>\n",
              "      <td>24.0</td>\n",
              "      <td>666.0</td>\n",
              "      <td>20.2</td>\n",
              "      <td>2.52</td>\n",
              "      <td>23.29</td>\n",
              "      <td>13.4</td>\n",
              "    </tr>\n",
              "    <tr>\n",
              "      <th>4</th>\n",
              "      <td>0.72580</td>\n",
              "      <td>0.0</td>\n",
              "      <td>8.14</td>\n",
              "      <td>0.0</td>\n",
              "      <td>0.5380</td>\n",
              "      <td>5.727</td>\n",
              "      <td>69.5</td>\n",
              "      <td>3.7965</td>\n",
              "      <td>4.0</td>\n",
              "      <td>307.0</td>\n",
              "      <td>21.0</td>\n",
              "      <td>390.95</td>\n",
              "      <td>11.28</td>\n",
              "      <td>18.2</td>\n",
              "    </tr>\n",
              "  </tbody>\n",
              "</table>\n",
              "</div>"
            ],
            "text/plain": [
              "       CRIM    ZN  INDUS  CHAS     NOX  ...    TAX  PTRATIO       B  LSTAT  MEDV\n",
              "0  15.02340   0.0  18.10   0.0  0.6140  ...  666.0     20.2  349.48  24.91  12.0\n",
              "1   0.62739   0.0   8.14   0.0  0.5380  ...  307.0     21.0  395.62   8.47  19.9\n",
              "2   0.03466  35.0   6.06   0.0  0.4379  ...  304.0     16.9  362.25   7.83  19.4\n",
              "3   7.05042   0.0  18.10   0.0  0.6140  ...  666.0     20.2    2.52  23.29  13.4\n",
              "4   0.72580   0.0   8.14   0.0  0.5380  ...  307.0     21.0  390.95  11.28  18.2\n",
              "\n",
              "[5 rows x 14 columns]"
            ]
          },
          "metadata": {
            "tags": []
          },
          "execution_count": 8
        }
      ]
    },
    {
      "cell_type": "markdown",
      "metadata": {
        "id": "z-g0gZDlIvy4",
        "colab_type": "text"
      },
      "source": [
        "Before we do any analysis, we always want to separate the data as input and output variable.\n",
        "\n",
        "Our target column is MEDV\n"
      ]
    },
    {
      "cell_type": "code",
      "metadata": {
        "id": "UaH64SJsI964",
        "colab_type": "code",
        "colab": {}
      },
      "source": [
        "# We select 1 on the bottom because we are dropping in a column and not row\n",
        "X = bostondata.drop(\"MEDV\", axis = 1) \n",
        "y = bostondata.MEDV \n",
        "# Or you can do y = boston_data[\"MEDV\"] "
      ],
      "execution_count": null,
      "outputs": []
    },
    {
      "cell_type": "markdown",
      "metadata": {
        "id": "zlWXDR42JQJp",
        "colab_type": "text"
      },
      "source": [
        "## Splitting the dataset\n"
      ]
    },
    {
      "cell_type": "code",
      "metadata": {
        "id": "1ed2N2zNJTHs",
        "colab_type": "code",
        "colab": {}
      },
      "source": [
        "from sklearn.model_selection import train_test_split \n",
        "\n",
        "# We are assigning 20% to the test data and 80% to the train data\n",
        "X_train, X_test, y_train, y_test = train_test_split(X, y, test_size=0.2, random_state=42)\n",
        "\n",
        "# Not sure if I understand random state\n",
        "# random_state = 42: this will fix the split i.e. there will be same split for each time you run the code"
      ],
      "execution_count": null,
      "outputs": []
    },
    {
      "cell_type": "code",
      "metadata": {
        "id": "nwctJDgAJrmp",
        "colab_type": "code",
        "colab": {
          "base_uri": "https://localhost:8080/",
          "height": 34
        },
        "outputId": "209e2f09-6df0-41c1-beb4-7d623271448e"
      },
      "source": [
        "# Finding the number of feature\n",
        "# Note 1 stands for no of column, while 0 stands for no of rows\n",
        "n_features = X.shape[1]\n",
        "print(n_features)"
      ],
      "execution_count": null,
      "outputs": [
        {
          "output_type": "stream",
          "text": [
            "13\n"
          ],
          "name": "stdout"
        }
      ]
    },
    {
      "cell_type": "code",
      "metadata": {
        "id": "SPe0uTbVMj8B",
        "colab_type": "code",
        "colab": {}
      },
      "source": [
        "# We will be using Sequential API\n",
        "#It is referred to as “sequential” because it involves defining a Sequential class and \n",
        "#adding layers to the model one by one in a linear manner, from input to output."
      ],
      "execution_count": null,
      "outputs": []
    },
    {
      "cell_type": "markdown",
      "metadata": {
        "id": "3mzYfsPANF6E",
        "colab_type": "text"
      },
      "source": [
        "The example below defines a Sequential MLP model that accepts one input (i.e. 'YearsExperience'), has one hidden layer with 1 node and then an output layer with one node to predict a numerical value."
      ]
    },
    {
      "cell_type": "code",
      "metadata": {
        "id": "EAbN-CoqNIeL",
        "colab_type": "code",
        "colab": {}
      },
      "source": [
        "from tensorflow.keras import Sequential    # import Sequential from tensorflow.keras\n",
        "from tensorflow.keras.layers import Dense  # import Dense from tensorflow.keras.layers\n",
        "from numpy.random import seed     # seed helps you to fix the randomness in the neural network.  \n",
        "import tensorflow"
      ],
      "execution_count": null,
      "outputs": []
    },
    {
      "cell_type": "markdown",
      "metadata": {
        "id": "W8cxm0sLNek7",
        "colab_type": "text"
      },
      "source": [
        "Note that the visible layer of the network is defined by the “input_shape” argument on the first hidden layer. That means in the below example, the model expects the input for one sample to be a vector of n_features (our case its 13)\n",
        "\n",
        "\n",
        "The sequential API is easy to use because you keep calling model.add() until you have added all of your layers\n",
        "\n",
        "\n",
        "The activation function we have chosen is ReLU, which stands for rectified linear unit. Activation function decides, whether a neuron should be activated or not\n",
        "\n",
        "\n",
        "ReLU is defined mathematically as F(x) = max(0,x). In other words, the output is x, if x is greater than 0, and the output is 0 if x is 0 or negative."
      ]
    },
    {
      "cell_type": "code",
      "metadata": {
        "id": "wIvWNpnnNdfG",
        "colab_type": "code",
        "colab": {}
      },
      "source": [
        "model = Sequential()\n",
        "# We added 3 layers\n",
        "model.add(Dense(10, activation='relu', input_shape=(n_features,)))\n",
        "model.add(Dense(8, activation='relu'))\n",
        "model.add(Dense(1))"
      ],
      "execution_count": null,
      "outputs": []
    },
    {
      "cell_type": "code",
      "metadata": {
        "id": "jMvXGIJJOgNX",
        "colab_type": "code",
        "colab": {
          "base_uri": "https://localhost:8080/",
          "height": 255
        },
        "outputId": "41d1cded-9c45-4c73-c963-9b36ae5b9fe1"
      },
      "source": [
        "model.summary()"
      ],
      "execution_count": null,
      "outputs": [
        {
          "output_type": "stream",
          "text": [
            "Model: \"sequential\"\n",
            "_________________________________________________________________\n",
            "Layer (type)                 Output Shape              Param #   \n",
            "=================================================================\n",
            "dense (Dense)                (None, 10)                140       \n",
            "_________________________________________________________________\n",
            "dense_1 (Dense)              (None, 8)                 88        \n",
            "_________________________________________________________________\n",
            "dense_2 (Dense)              (None, 1)                 9         \n",
            "=================================================================\n",
            "Total params: 237\n",
            "Trainable params: 237\n",
            "Non-trainable params: 0\n",
            "_________________________________________________________________\n"
          ],
          "name": "stdout"
        }
      ]
    },
    {
      "cell_type": "markdown",
      "metadata": {
        "id": "l5prgx5-O5Ec",
        "colab_type": "text"
      },
      "source": [
        "An Optimizer helps optimize a cost function\n",
        "\n",
        "## Compiling the Model\n",
        "\n",
        "\n",
        "Compiling the model requires that you first select a loss function that you want to optimize, such as mean squared error or cross-entropy.\n",
        "\n",
        "It also requires that you select an algorithm to perform the optimization procedure. We’re using RMSprop as our optimizer here. RMSprop stands for Root Mean Square Propagation.\n",
        "\n",
        "It may also require that you select any performance metrics to keep track of during the model training process. The loss function used here is mean squared error."
      ]
    },
    {
      "cell_type": "code",
      "metadata": {
        "id": "8k3GGVtoO_Yl",
        "colab_type": "code",
        "colab": {}
      },
      "source": [
        "# import RMSprop optimizer\n",
        "from tensorflow.keras.optimizers import RMSprop\n",
        "optimizer = RMSprop(0.01)    # 0.01 is the learning rate"
      ],
      "execution_count": null,
      "outputs": []
    },
    {
      "cell_type": "markdown",
      "metadata": {
        "id": "zLSgv9eaPX9C",
        "colab_type": "text"
      },
      "source": [
        "You may wonder why learning rate of 0.01? \n",
        "Usually its between 1 and 10^(-6) but you it can be determined using trial and error\n",
        "\n",
        "Tradtionally its 0.1, or 0.01 or 0.03\n"
      ]
    },
    {
      "cell_type": "code",
      "metadata": {
        "id": "kJeBE5mLPqA4",
        "colab_type": "code",
        "colab": {}
      },
      "source": [
        "model.compile(loss='mean_squared_error',optimizer=optimizer)    # compile the model\n",
        "# We see the optimizer was a RmSprop which is also root mean square propagation"
      ],
      "execution_count": null,
      "outputs": []
    },
    {
      "cell_type": "markdown",
      "metadata": {
        "id": "AVk5WAlCQF0T",
        "colab_type": "text"
      },
      "source": [
        "## Fitting the model\n",
        "Fitting the model requires that you first select the training configuration, such as the number of epochs (loops through the training dataset) and the batch size (number of samples in an epoch used to estimate model error).\n",
        "\n",
        "Training applies the chosen optimization algorithm to minimize the chosen loss function and updates the model using the backpropagation\n",
        "\n",
        "\n",
        "---\n",
        "\n",
        "\n",
        "Fitting the model is the slow part of the whole process and can take seconds to hours to days, depending on the complexity of the model, the hardware you’re using, and the size of the training dataset.\n",
        "\n",
        "From an API perspective, this involves calling a function to perform the training process. This function will block (not return) until the training process has finished.\n",
        "\n",
        "While fitting the model, a progress bar will summarize the status of each epoch and the overall training process.\n",
        "\n"
      ]
    },
    {
      "cell_type": "markdown",
      "metadata": {
        "id": "UtaOEqYySis6",
        "colab_type": "text"
      },
      "source": [
        "**Seed Everything**\n",
        "We want to seed everything in order to replicate or have consistent randomization in code. The weights of paramters are usually randomized.\n",
        "When we seed, we can reproduce these results.\n",
        "\n",
        "**So say we said 42, if we say 80  next time, and then again 42, both times when 42 is used, we get the same results**"
      ]
    },
    {
      "cell_type": "code",
      "metadata": {
        "id": "pmPbUkRuTj68",
        "colab_type": "code",
        "colab": {
          "base_uri": "https://localhost:8080/",
          "height": 34
        },
        "outputId": "9826f0b9-c97c-4d2e-f982-707d1ade3215"
      },
      "source": [
        "X_train.shape #  => (323,13)\n",
        "X_train.shape[0] # => 323\n",
        "X_train.shape[1] # => 13"
      ],
      "execution_count": null,
      "outputs": [
        {
          "output_type": "execute_result",
          "data": {
            "text/plain": [
              "13"
            ]
          },
          "metadata": {
            "tags": []
          },
          "execution_count": 17
        }
      ]
    },
    {
      "cell_type": "code",
      "metadata": {
        "id": "GhrLM6JnQcD4",
        "colab_type": "code",
        "colab": {
          "base_uri": "https://localhost:8080/",
          "height": 374
        },
        "outputId": "3ccf7bd6-44c2-45b2-a1ae-13d3e022621d"
      },
      "source": [
        "seed_value = 42\n",
        "seed(seed_value)        # If you build the model with given parameters, \n",
        "#set_random_seed will help you produce the same result on multiple execution\n",
        "\n",
        "\n",
        "# Recommended by Keras --------------------------------------------------------\n",
        "# 1. Set 'PYTHONHASHSEED' environment variable at a fixed value\n",
        "import os\n",
        "os.environ['PYTHONHASHSEED']=str(seed_value)\n",
        "\n",
        "# 2. Set 'python' built-in pseudo-random generator at a fixed value\n",
        "import random\n",
        "random.seed(seed_value)\n",
        "\n",
        "# 3. Set 'numpy' pseudo-random generator at a fixed value\n",
        "import numpy as np\n",
        "np.random.seed(seed_value)\n",
        "# Recommended by Keras -------------------------------------------------------\n",
        "\n",
        "\n",
        "# 4. Set the `tensorflow` pseudo-random generator at a fixed value\n",
        "tensorflow.random.set_seed(seed_value) \n",
        "model.fit(X_train, y_train, epochs=10, batch_size=30, verbose = 1)\n",
        "\n",
        "# By now the model has learned the coefficient m, and c of mx+c"
      ],
      "execution_count": null,
      "outputs": [
        {
          "output_type": "stream",
          "text": [
            "Epoch 1/10\n",
            "11/11 [==============================] - 0s 2ms/step - loss: 5648.8999\n",
            "Epoch 2/10\n",
            "11/11 [==============================] - 0s 1ms/step - loss: 214.1065\n",
            "Epoch 3/10\n",
            "11/11 [==============================] - 0s 1ms/step - loss: 150.9245\n",
            "Epoch 4/10\n",
            "11/11 [==============================] - 0s 1ms/step - loss: 249.4496\n",
            "Epoch 5/10\n",
            "11/11 [==============================] - 0s 2ms/step - loss: 163.2808\n",
            "Epoch 6/10\n",
            "11/11 [==============================] - 0s 1ms/step - loss: 106.7952\n",
            "Epoch 7/10\n",
            "11/11 [==============================] - 0s 1ms/step - loss: 90.9985\n",
            "Epoch 8/10\n",
            "11/11 [==============================] - 0s 1ms/step - loss: 114.3021\n",
            "Epoch 9/10\n",
            "11/11 [==============================] - 0s 1ms/step - loss: 100.1358\n",
            "Epoch 10/10\n",
            "11/11 [==============================] - 0s 2ms/step - loss: 124.5766\n"
          ],
          "name": "stdout"
        },
        {
          "output_type": "execute_result",
          "data": {
            "text/plain": [
              "<tensorflow.python.keras.callbacks.History at 0x7fe7eb9849e8>"
            ]
          },
          "metadata": {
            "tags": []
          },
          "execution_count": 16
        }
      ]
    },
    {
      "cell_type": "markdown",
      "metadata": {
        "id": "hK5l8AcEQ43r",
        "colab_type": "text"
      },
      "source": [
        "What is verbose?\n",
        "\n",
        "By setting verbose 0, 1 or 2 you just say how do you want to 'see' the training progress for each epoch.\n",
        "\n",
        "verbose=0 will show you nothing (silent)\n",
        "\n",
        "verbose=1 will show you an animated progress bar like this: [======]\n",
        "progres_bar\n",
        "\n",
        "verbose=2 will just mention the number of epoch like this: Epoch 1/10\n",
        "\n",
        "verbose = 2 "
      ]
    },
    {
      "cell_type": "markdown",
      "metadata": {
        "id": "6WL7kCX2Rb8G",
        "colab_type": "text"
      },
      "source": [
        "## Evaluate the Model\n",
        "\n",
        "Evaluating the model requires that you first choose a holdout dataset used to evaluate the model. This should be data not used in the training process i.e. the X_test.\n",
        "\n",
        "The speed of model evaluation is proportional to the amount of data you want to use for the evaluation, although it is much faster than training as the model is not changed.\n",
        "\n",
        "From an API perspective, this involves calling a function with the holdout dataset and getting a loss function"
      ]
    },
    {
      "cell_type": "code",
      "metadata": {
        "id": "Kn__XKrjRjy6",
        "colab_type": "code",
        "colab": {
          "base_uri": "https://localhost:8080/",
          "height": 51
        },
        "outputId": "d598a6a6-52da-4c7e-a273-51573fd50b38"
      },
      "source": [
        "model.evaluate(X_test, y_test) #evaluate on the 20% of the test based on the model coefficent that it was trained"
      ],
      "execution_count": null,
      "outputs": [
        {
          "output_type": "stream",
          "text": [
            "3/3 [==============================] - 0s 2ms/step - loss: 85.8627\n"
          ],
          "name": "stdout"
        },
        {
          "output_type": "execute_result",
          "data": {
            "text/plain": [
              "85.86271667480469"
            ]
          },
          "metadata": {
            "tags": []
          },
          "execution_count": 18
        }
      ]
    },
    {
      "cell_type": "markdown",
      "metadata": {
        "id": "cZRysiKuRtO2",
        "colab_type": "text"
      },
      "source": [
        "The mean squared error we got here is 85.8. Now, what does it mean?\n",
        "\n",
        "When you subtract the predicted values (of X_test data) from the acutal value (of X_test data), then square it and sum all the squares, and finally take a mean (i.e. average) of it, the result you will get is 85.8 in this case.\n"
      ]
    },
    {
      "cell_type": "code",
      "metadata": {
        "id": "IN_2-2XfR1qM",
        "colab_type": "code",
        "colab": {}
      },
      "source": [
        "model.predict(X_test) #Gives the predicted Y values"
      ],
      "execution_count": null,
      "outputs": []
    },
    {
      "cell_type": "code",
      "metadata": {
        "id": "aR_mwvJCUt3t",
        "colab_type": "code",
        "colab": {}
      },
      "source": [
        "# Plotting the loss curve:\n",
        "\n",
        "def plotting_the_loss_curve(epochs, rmse):\n",
        "  \"Returns the curve of loss vs epoch\"\n",
        "  plt.figure()\n",
        "  plt.xlabel(\"Epoch\")\n",
        "  plt.ylabel(\"Root Mean Squared Error\")\n",
        "  plt.plot(epochs, rmse,label=\"Loss\")\n",
        "  plt.legend()\n",
        "  plt.show()"
      ],
      "execution_count": null,
      "outputs": []
    },
    {
      "cell_type": "markdown",
      "metadata": {
        "id": "hzrj932e3W_f",
        "colab_type": "text"
      },
      "source": [
        "## Learning Hyper Parameter tuning\n",
        "We will be testing different rates to find an optimal option\n",
        "\n",
        "**Learning Rate**\n",
        "\n",
        "A scalar used to train a model via gradient descent. During each iteration, the gradient descent algorithm multiplies the learning rate by the gradient. The resulting product is called the gradient step.\n",
        "\n",
        "Learning rate is a key hyperparameter."
      ]
    },
    {
      "cell_type": "code",
      "metadata": {
        "id": "6DQvxrJ23SXy",
        "colab_type": "code",
        "colab": {}
      },
      "source": [
        "# Model 1\n",
        "# Changing alpha from 0.01 to 0.1\n",
        "model = Sequential()\n",
        "model.add(Dense(10, activation='relu', input_shape=(n_features,)))\n",
        "model.add(Dense(8, activation='relu'))\n",
        "model.add(Dense(1))\n",
        "\n",
        "optimizer = RMSprop(0.1)    # 0.1 is the learning rate\n",
        "model.compile(loss='mean_squared_error',optimizer=optimizer)    # compile the model\n",
        "\n",
        "# fit the model \n",
        "history = model.fit(X_train, y_train, epochs=10, batch_size=30, verbose = 1)\n",
        "\n",
        "# evaluate the model\n",
        "print('The MSE value is: ', model.evaluate(X_test, y_test))"
      ],
      "execution_count": null,
      "outputs": []
    },
    {
      "cell_type": "markdown",
      "metadata": {
        "id": "UagNZztD4dbo",
        "colab_type": "text"
      },
      "source": [
        "We see that the loss is 223.9772, which is worst that we had. Note you look at the last loss and not the MSE value\n",
        "\n"
      ]
    },
    {
      "cell_type": "code",
      "metadata": {
        "id": "Puuilhdo43jK",
        "colab_type": "code",
        "colab": {
          "base_uri": "https://localhost:8080/",
          "height": 279
        },
        "outputId": "c2f23731-5b27-4b8b-ee3e-7c5a941c0b9a"
      },
      "source": [
        "# TO observe the deviation\n",
        "plotting_the_loss_curve(history.epoch, history.history[\"loss\"])\n",
        "# You need to use history function for some reason, don't know why"
      ],
      "execution_count": null,
      "outputs": [
        {
          "output_type": "display_data",
          "data": {
            "image/png": "[encoded data removed]",
            "text/plain": [
              "<Figure size 432x288 with 1 Axes>"
            ]
          },
          "metadata": {
            "tags": [],
            "needs_background": "light"
          }
        }
      ]
    },
    {
      "cell_type": "markdown",
      "metadata": {
        "id": "XJQ9AOMM6U3C",
        "colab_type": "text"
      },
      "source": [
        "**As the number of epochs increases, the model learns better and RMSE starts ro decrease**\n"
      ]
    },
    {
      "cell_type": "markdown",
      "metadata": {
        "id": "NPj2yTgbZt9M",
        "colab_type": "text"
      },
      "source": [
        "We will be testing different learning rate and how it works\n"
      ]
    },
    {
      "cell_type": "code",
      "metadata": {
        "id": "w5stuqoiZ3Qv",
        "colab_type": "code",
        "colab": {}
      },
      "source": [
        "learning_rate = 0.03          \n",
        "epochs = 10\n",
        "optimizer = RMSprop(learning_rate)\n",
        "model.compile(loss='mean_squared_error',optimizer=optimizer)    # compile the model\n",
        "model.fit(X_train, y_train, epochs=epochs, batch_size=30)     # fit the model\n",
        "model.evaluate(X_test, y_test)       # Evaluate the model"
      ],
      "execution_count": null,
      "outputs": []
    },
    {
      "cell_type": "markdown",
      "metadata": {
        "id": "80ryHUR0acco",
        "colab_type": "text"
      },
      "source": [
        "We see that as we decreased the learning rate from 0.01 to 0.03 the loss decreased to 103.9463"
      ]
    },
    {
      "cell_type": "markdown",
      "metadata": {
        "id": "Zx9e4za7arCl",
        "colab_type": "text"
      },
      "source": [
        "Now, we are going to test with **epochs**\n",
        "In the code below, Epoch will be increased from 10 to 100"
      ]
    },
    {
      "cell_type": "code",
      "metadata": {
        "id": "Ashvq-vWau3X",
        "colab_type": "code",
        "colab": {}
      },
      "source": [
        "learning_rate = 0.03          \n",
        "epochs = 100\n",
        "optimizer = RMSprop(learning_rate)\n",
        "model.compile(loss='mean_squared_error',optimizer=optimizer)    # compile the model\n",
        "model.fit(X_train, y_train, epochs=epochs, batch_size=30)     # fit the model\n",
        "model.evaluate(X_test, y_test)       # Evaluate the model"
      ],
      "execution_count": null,
      "outputs": []
    },
    {
      "cell_type": "markdown",
      "metadata": {
        "id": "v4J-oFhLdI4v",
        "colab_type": "text"
      },
      "source": [
        "It can be seen as we increased the epoch while keep the **learning rate** same/constant, the loss decreased from 103 to 34.\n",
        "\n",
        "Note the downside is that the model might overfit too much by learning the pattern, which is not good either"
      ]
    },
    {
      "cell_type": "markdown",
      "metadata": {
        "id": "UvpTCeibdqPn",
        "colab_type": "text"
      },
      "source": [
        "Now we will test with **Batch Size** which is basically the number of batches in a batch"
      ]
    },
    {
      "cell_type": "code",
      "metadata": {
        "id": "wtDDVR_WdeMX",
        "colab_type": "code",
        "colab": {}
      },
      "source": [
        "# Model 2\n",
        "model = Sequential()\n",
        "model.add(Dense(10, activation='relu', input_shape=(n_features,)))\n",
        "model.add(Dense(8, activation='relu'))\n",
        "model.add(Dense(1))\n",
        "\n",
        "optimizer = RMSprop(0.01)    # 0.1 is the learning rate\n",
        "model.compile(loss='mean_squared_error',optimizer=optimizer)   \n",
        "\n",
        "# fit the model \n",
        "model.fit(X_train, y_train, epochs=10, batch_size=40, verbose = 1) # Batch size increased from 30 to 40\n",
        "\n",
        "# evaluate the model\n",
        "print('The MSE value is: ', model.evaluate(X_test, y_test))"
      ],
      "execution_count": null,
      "outputs": []
    },
    {
      "cell_type": "markdown",
      "metadata": {
        "id": "kF9dOgyseg29",
        "colab_type": "text"
      },
      "source": [
        "We see that increasing the batch size made the model worst as lowest loss was 362.2616 as compared to model 1 (right below **learning rate**), which was 223. \n",
        "\n",
        "What we learn is that we need to be testing in order to see what fits the model. The law of large numbers may not work all the time, where higher the n the better it is"
      ]
    },
    {
      "cell_type": "markdown",
      "metadata": {
        "id": "CNPF43gSfFHH",
        "colab_type": "text"
      },
      "source": [
        "## Conclusion\n",
        "\n",
        "Most machine learning problems require a lot of hyperparameter tuning. Unfortunately, we can't provide concrete tuning rules for every model. Lowering the learning rate can help one model converge efficiently but make another model converge much too slowly. You must experiment to find the best set of hyperparameters"
      ]
    },
    {
      "cell_type": "markdown",
      "metadata": {
        "id": "xyUEkU8wgKJl",
        "colab_type": "text"
      },
      "source": [
        "One final note is that you can also hyperparameter tune using Keras and SkLearn but its a bit more complicated. To find more information on that see: \n",
        "\n",
        "https://github.com/dphi-official/Deep_Learning_Bootcamp/blob/master/Linear_Regression/Linear_Regression_with_tf_keras_Intermediates.ipynb"
      ]
    }
  ]
}